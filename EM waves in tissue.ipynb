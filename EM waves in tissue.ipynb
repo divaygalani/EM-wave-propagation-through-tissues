{
 "cells": [
  {
   "cell_type": "code",
   "execution_count": 1,
   "id": "e4305534",
   "metadata": {},
   "outputs": [],
   "source": [
    "import numpy as np\n",
    "import matplotlib.pyplot as plt"
   ]
  },
  {
   "cell_type": "code",
   "execution_count": 2,
   "id": "6fb4c0f4",
   "metadata": {},
   "outputs": [],
   "source": [
    "# Constants\n",
    "c = 3e8  # Speed of light in m/s\n",
    "dx = dy = dz = 0.01  # Grid spacing in meters\n",
    "dt = dx / (2 * c)  # Time step\n",
    "sigma = 0.1  # Tissue conductivity (S/m)\n",
    "epsilon_r = 50  # Tissue relative permittivity\n",
    "epsilon_0 = 8.85e-12  # Permittivity of free space (F/m)"
   ]
  },
  {
   "cell_type": "code",
   "execution_count": 3,
   "id": "28468624",
   "metadata": {},
   "outputs": [],
   "source": [
    "# Grid dimensions\n",
    "nx = ny = nz = 100  # Number of grid points\n",
    "timesteps = 100  # Number of time steps"
   ]
  },
  {
   "cell_type": "code",
   "execution_count": 4,
   "id": "230c4a8a",
   "metadata": {},
   "outputs": [],
   "source": [
    "# Initialize fields\n",
    "Ex = np.zeros((nx, ny, nz))\n",
    "Ey = np.zeros((nx, ny, nz))\n",
    "Ez = np.zeros((nx, ny, nz))\n",
    "Hx = np.zeros((nx, ny, nz))\n",
    "Hy = np.zeros((nx, ny, nz))\n",
    "Hz = np.zeros((nx, ny, nz))"
   ]
  },
  {
   "cell_type": "code",
   "execution_count": 5,
   "id": "55dc3f1c",
   "metadata": {},
   "outputs": [],
   "source": [
    "# Main FDTD loop\n",
    "for t in range(timesteps):\n",
    "    # Update electric fields (Maxwell's equations)\n",
    "    Ex[1:, :, :] += (dt / dx) * (Hz[1:, :, :] - Hz[:-1, :, :])\n",
    "    Ey[:, 1:, :] += (dt / dy) * (Hz[:, 1:, :] - Hz[:, :-1, :])\n",
    "    Ez[:, :, 1:] += (dt / dz) * (Hy[:, :, 1:] - Hy[:, :, :-1])"
   ]
  },
  {
   "cell_type": "code",
   "execution_count": 6,
   "id": "6179df34",
   "metadata": {},
   "outputs": [],
   "source": [
    "    # Update magnetic fields (Maxwell's equations)\n",
    "    Hx[:-1, :, :] += (dt / dx) * (Ey[:-1, :, :] - Ey[1:, :, :])\n",
    "    Hy[:, :-1, :] += (dt / dy) * (Ex[:, :-1, :] - Ex[:, 1:, :])\n",
    "    Hz[:, :, :-1] += (dt / dz) * (Ex[:, :, :-1] - Ex[:, :, 1:])"
   ]
  },
  {
   "cell_type": "code",
   "execution_count": 7,
   "id": "f8cfc96e",
   "metadata": {},
   "outputs": [],
   "source": [
    "    # Update electric fields with tissue properties\n",
    "    Ex *= (1 - sigma * dt / (2 * epsilon_0 * epsilon_r))\n",
    "    Ey *= (1 - sigma * dt / (2 * epsilon_0 * epsilon_r))\n",
    "    Ez *= (1 - sigma * dt / (2 * epsilon_0 * epsilon_r))"
   ]
  },
  {
   "cell_type": "code",
   "execution_count": 9,
   "id": "cf0ea590",
   "metadata": {},
   "outputs": [],
   "source": [
    "   # Add a source of electromagnetic waves (e.g., Gaussian pulse)\n",
    "Ex[nx//2, ny//2, nz//2] += np.exp(-((t - 30) / 10)**2)  # Gaussian pulse\n"
   ]
  },
  {
   "cell_type": "code",
   "execution_count": 12,
   "id": "c52fef5c",
   "metadata": {},
   "outputs": [],
   "source": [
    "# Plot results\n",
    "plt.imshow(Ex[:, :, nz//2], cmap='bwr', origin='lower', extent=[0, nx*dx, 0, ny*dy])\n",
    "plt.colorbar(label='Electric Field (Ex)')\n",
    "plt.xlabel('X (m)')\n",
    "plt.ylabel('Y (m)')\n",
    "plt.title('Electric Field Propagation in Tissue')"
   ]
  },
  {
   "cell_type": "code",
   "execution_count": 14,
   "id": "8cab32b4",
   "metadata": {},
   "outputs": [],
   "source": [
    "plt.show()"
   ]
  },
  {
   "cell_type": "code",
   "execution_count": null,
   "id": "2628f983",
   "metadata": {},
   "outputs": [],
   "source": []
  }
 ],
 "metadata": {
  "kernelspec": {
   "display_name": "Python 3 (ipykernel)",
   "language": "python",
   "name": "python3"
  },
  "language_info": {
   "codemirror_mode": {
    "name": "ipython",
    "version": 3
   },
   "file_extension": ".py",
   "mimetype": "text/x-python",
   "name": "python",
   "nbconvert_exporter": "python",
   "pygments_lexer": "ipython3",
   "version": "3.11.9"
  }
 },
 "nbformat": 4,
 "nbformat_minor": 5
}
